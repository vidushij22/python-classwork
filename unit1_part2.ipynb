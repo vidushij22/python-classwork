{
 "cells": [
  {
   "cell_type": "code",
   "execution_count": 1,
   "metadata": {},
   "outputs": [
    {
     "name": "stdout",
     "output_type": "stream",
     "text": [
      "this is inside the if block.\n",
      "this is outside the if block.\n"
     ]
    }
   ],
   "source": [
    "#indenting requirememnts\n",
    "if True:\n",
    "    print(\"this is inside the if block.\")\n",
    "print(\"this is outside the if block.\")"
   ]
  },
  {
   "cell_type": "code",
   "execution_count": 2,
   "metadata": {},
   "outputs": [
    {
     "name": "stdout",
     "output_type": "stream",
     "text": [
      "x is greater than 5\n"
     ]
    }
   ],
   "source": [
    "#the if statement\n",
    "x=10\n",
    "if x>5:\n",
    "    print(\"x is greater than 5\")\n"
   ]
  },
  {
   "cell_type": "code",
   "execution_count": 3,
   "metadata": {},
   "outputs": [
    {
     "name": "stdout",
     "output_type": "stream",
     "text": [
      "both conditions are true.\n"
     ]
    }
   ],
   "source": [
    "#relational and logical operators\n",
    " #1. relationsal operator -compare valures(==,!=,<,>,<=,>=)\n",
    " #2. logical operator combine conditional statements(and,or,not)\n",
    "# a == b  # Equal to\n",
    "# a != b  # Not equal to\n",
    "# a > b   # Greater than\n",
    "# a < b   # Less than\n",
    "# a >= b  # Greater than or equal to\n",
    "# a <= b  # Less than or equal to\n",
    "#   condition1 and condition2  # True if both conditions are true\n",
    "# condition1 or condition2   # True if at least one condition is true\n",
    "# not condition              # True if condition is false\n",
    "a=10\n",
    "b=5\n",
    "if a>b and b>0:\n",
    "    print(\"both conditions are true.\")\n"
   ]
  },
  {
   "cell_type": "code",
   "execution_count": 4,
   "metadata": {},
   "outputs": [
    {
     "name": "stdout",
     "output_type": "stream",
     "text": [
      "2\n",
      "7\n",
      "5\n",
      "-7\n",
      "12\n",
      "3\n"
     ]
    }
   ],
   "source": [
    "#bitwise operators\n",
    "# a & b  # Bitwise AND\n",
    "# a | b  # Bitwise OR\n",
    "# a ^ b  # Bitwise XOR\n",
    "# ~a     # Bitwise NOT\n",
    "# a << n # Bitwise left shift\n",
    "# a >> n # Bitwise right shift\n",
    "  \n",
    "a=6\n",
    "b=3\n",
    "print(a&b)\n",
    "print(a|b)\n",
    "print(a^b)\n",
    "print(~a)\n",
    "print(a<<1)\n",
    "print(a>>1)"
   ]
  },
  {
   "cell_type": "code",
   "execution_count": 5,
   "metadata": {},
   "outputs": [
    {
     "name": "stdout",
     "output_type": "stream",
     "text": [
      "0\n",
      "1\n",
      "2\n",
      "3\n",
      "4\n"
     ]
    }
   ],
   "source": [
    "#the while loop\n",
    "count=0\n",
    "while count<5:\n",
    "    print(count)\n",
    "    count+=1"
   ]
  },
  {
   "cell_type": "code",
   "execution_count": 11,
   "metadata": {},
   "outputs": [
    {
     "name": "stdout",
     "output_type": "stream",
     "text": [
      "break eg\n",
      "0\n",
      "1\n",
      "2\n",
      "3\n",
      "4\n",
      "continue eg\n",
      "1\n",
      "2\n",
      "4\n",
      "5\n"
     ]
    }
   ],
   "source": [
    "#break and continue\n",
    "print(\"break eg\")\n",
    "count=0\n",
    "while count<10:\n",
    "    if count==5:\n",
    "     break \n",
    "    print(count)\n",
    "    count += 1\n",
    "\n",
    "print(\"continue eg\")\n",
    "count =0 \n",
    "while count<5 :\n",
    "   count+= 1\n",
    "   if count ==3:\n",
    "      continue\n",
    "   print(count)  \n"
   ]
  },
  {
   "cell_type": "code",
   "execution_count": 13,
   "metadata": {},
   "outputs": [
    {
     "name": "stdout",
     "output_type": "stream",
     "text": [
      "0\n",
      "1\n",
      "2\n",
      "3\n",
      "4\n"
     ]
    }
   ],
   "source": [
    "#for loop\n",
    "for i in range(5):\n",
    "    print(i)"
   ]
  },
  {
   "cell_type": "code",
   "execution_count": 14,
   "metadata": {},
   "outputs": [
    {
     "name": "stdout",
     "output_type": "stream",
     "text": [
      "0\n",
      "1\n",
      "2\n",
      "3\n",
      "4\n",
      "5\n",
      "6\n",
      "7\n",
      "8\n",
      "9\n"
     ]
    }
   ],
   "source": [
    "#in keyword in a for loop\n",
    "for i in range (0,10):\n",
    "    print(i)"
   ]
  },
  {
   "cell_type": "code",
   "execution_count": 15,
   "metadata": {},
   "outputs": [
    {
     "name": "stdout",
     "output_type": "stream",
     "text": [
      "True\n"
     ]
    }
   ],
   "source": [
    "# in as a membership operator\n",
    "str=\"hello world\"\n",
    "result=\"hello\" in str\n",
    "print(result)"
   ]
  }
 ],
 "metadata": {
  "kernelspec": {
   "display_name": "Python 3",
   "language": "python",
   "name": "python3"
  },
  "language_info": {
   "codemirror_mode": {
    "name": "ipython",
    "version": 3
   },
   "file_extension": ".py",
   "mimetype": "text/x-python",
   "name": "python",
   "nbconvert_exporter": "python",
   "pygments_lexer": "ipython3",
   "version": "3.12.5"
  }
 },
 "nbformat": 4,
 "nbformat_minor": 2
}
