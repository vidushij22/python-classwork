{
 "cells": [
  {
   "cell_type": "code",
   "execution_count": null,
   "metadata": {},
   "outputs": [],
   "source": [
    "#Defining your own functions"
   ]
  },
  {
   "cell_type": "code",
   "execution_count": 4,
   "metadata": {},
   "outputs": [
    {
     "name": "stdout",
     "output_type": "stream",
     "text": [
      "Hello, Vidushi!\n"
     ]
    }
   ],
   "source": [
    "def greet(name):\n",
    "   \n",
    "    return f\"Hello, {name}!\"\n",
    "\n",
    "#Calling the function\n",
    "message = greet(\"Vidushi\")\n",
    "print(message)  \n",
    "\n",
    "\n",
    "\n"
   ]
  },
  {
   "cell_type": "code",
   "execution_count": 5,
   "metadata": {},
   "outputs": [
    {
     "name": "stdout",
     "output_type": "stream",
     "text": [
      "8\n"
     ]
    }
   ],
   "source": [
    "# Parameters\n",
    "def add(a, b):\n",
    "   \n",
    "    return a + b\n",
    "\n",
    "#Calling the function with arguments\n",
    "result = add(5, 3)\n",
    "print(result)  # Output: 8\n",
    "\n",
    "\n",
    "\n"
   ]
  },
  {
   "cell_type": "code",
   "execution_count": 9,
   "metadata": {},
   "outputs": [
    {
     "name": "stdout",
     "output_type": "stream",
     "text": [
      "\n",
      "    Multiplies two numbers and returns the result.\n",
      "    \n",
      "    Parameters:\n",
      "    a (int, float): The first number.\n",
      "    b (int, float): The second number.\n",
      "\n",
      "    Returns:\n",
      "    int, float: The product of a and b.\n",
      "    \n"
     ]
    }
   ],
   "source": [
    "#Function documentation\n",
    "def multiply(a, b):\n",
    "    \"\"\"\n",
    "    Multiplies two numbers and returns the result.\n",
    "    \n",
    "    Parameters:\n",
    "    a (int, float): The first number.\n",
    "    b (int, float): The second number.\n",
    "\n",
    "    Returns:\n",
    "    int, float: The product of a and b.\n",
    "    \"\"\"\n",
    "    return a * b\n",
    "\n",
    "# Print the docstring of the function\n",
    "print(multiply.__doc__)\n"
   ]
  },
  {
   "cell_type": "code",
   "execution_count": 10,
   "metadata": {},
   "outputs": [
    {
     "name": "stdout",
     "output_type": "stream",
     "text": [
      "My name is Bob, and I am 25 years old.\n",
      "My name is Alice, and I am 30 years old.\n"
     ]
    }
   ],
   "source": [
    "#Keyword and optional parameters\n",
    "def introduce(name, age=25):\n",
    "    \n",
    "    return f\"My name is {name}, and I am {age} years old.\"\n",
    "\n",
    "#Calling with positional arguments\n",
    "\n",
    "\n",
    "\n",
    "print(introduce(\"Bob\"))  \n",
    "\n",
    "#Calling with keyword arguments\n",
    "\n",
    "\n",
    "print(introduce(name=\"Alice\", age=30))  \n",
    "\n"
   ]
  },
  {
   "cell_type": "code",
   "execution_count": null,
   "metadata": {},
   "outputs": [
    {
     "name": "stdout",
     "output_type": "stream",
     "text": [
      "15\n",
      "60\n"
     ]
    }
   ],
   "source": [
    "#Passing collections to a function\n",
    "#you can pass entire collections like lists,tupes,sets or dictionaries to a function\n",
    "\n",
    "\n",
    "def sum_numbers(numbers):\n",
    "    \"\"\"Sums all the numbers in a collection.\"\"\"\n",
    "    return sum(numbers)\n",
    "\n",
    "#Passing a list to the function\n",
    "\n",
    "\n",
    "\n",
    "result = sum_numbers([1, 2, 3, 4, 5])\n",
    "print(result)  \n",
    "\n",
    "#Passing a tuple to the function\n",
    "\n",
    "result = sum_numbers((10, 20, 30))\n",
    "print(result) \n",
    "\n",
    "\n"
   ]
  },
  {
   "cell_type": "code",
   "execution_count": 12,
   "metadata": {},
   "outputs": [
    {
     "name": "stdout",
     "output_type": "stream",
     "text": [
      "1\n",
      "2\n",
      "3\n",
      "4\n",
      "name: VIDUSHI\n",
      "age: 21\n"
     ]
    }
   ],
   "source": [
    "#variable number of arguments (args and kwargs)\n",
    "def print_numbers(*args):\n",
    "    \"\"\"Prints each number passed as an argument.\"\"\"\n",
    "    for number in args:\n",
    "        print(number)\n",
    "\n",
    "#Calling with multiple arguments\n",
    "\n",
    "\n",
    "\n",
    "print_numbers(1, 2, 3, 4)\n",
    "\n",
    "\n",
    "\n",
    "\n",
    "\n",
    "def print_key_value(**kwargs):\n",
    "    \"\"\"Prints each key-value pair passed as keyword arguments.\"\"\"\n",
    "    for key, value in kwargs.items():\n",
    "        print(f\"{key}: {value}\")\n",
    "\n",
    "#Calling with keyword arguments\n",
    "\n",
    "\n",
    "\n",
    "print_key_value(name=\"VIDUSHI\", age=21)\n",
    "\n",
    "\n"
   ]
  },
  {
   "cell_type": "code",
   "execution_count": 13,
   "metadata": {},
   "outputs": [
    {
     "name": "stdout",
     "output_type": "stream",
     "text": [
      "30\n",
      "20\n",
      "10\n"
     ]
    }
   ],
   "source": [
    "#Scope\n",
    "# (local scope,enclosing scope,global scope,built-in scope)\n",
    "\n",
    "\n",
    "x = 10  # Global variable\n",
    "\n",
    "def outer_function():\n",
    "    x = 20  # Enclosing variable\n",
    "\n",
    "    def inner_function():\n",
    "        x = 30  # Local variable\n",
    "        print(x) \n",
    "\n",
    "    inner_function()\n",
    "    print(x) \n",
    "\n",
    "outer_function()\n",
    "print(x)  \n"
   ]
  },
  {
   "cell_type": "code",
   "execution_count": 19,
   "metadata": {},
   "outputs": [
    {
     "name": "stdout",
     "output_type": "stream",
     "text": [
      "Hello, Vidushi! Welcome to the team!\n",
      "Hello, vidushi! Welcome!\n",
      "Hello, vaidehi! Good to see you!\n",
      "Hello, vidushi!\n",
      "Hello, vaidehi!\n",
      "Hello, ishita!\n",
      "name: vidushi\n",
      "age: 21\n",
      "job: student\n"
     ]
    }
   ],
   "source": [
    "#Passing arguments to functions in python\n",
    "\n",
    "#1. positional arguments\n",
    "def greet(name, message):\n",
    "         return f\"Hello, {name}! {message}\"\n",
    "\n",
    "print(greet(\"Vidushi\", \"Welcome to the team!\"))\n",
    "\n",
    "#2. default arguments\n",
    "def greet(name, message=\"Welcome!\"):\n",
    "         return f\"Hello, {name}! {message}\"\n",
    "\n",
    "print(greet(\"vidushi\"))  # Uses default message\n",
    "print(greet(\"vaidehi\", \"Good to see you!\"))  # Overrides default\n",
    "\n",
    "\n",
    "\n",
    "#args (arbitrary positional arguments)\n",
    "\n",
    "def greet(*names):\n",
    "         for name in names:\n",
    "             print(f\"Hello, {name}!\")\n",
    "\n",
    "greet(\"vidushi\", \"vaidehi\", \"ishita\")\n",
    "     \n",
    "\n",
    "#kwargs (arbitrary keyword arguments)\n",
    "def describe_person(**info):\n",
    "         for key, value in info.items():\n",
    "             print(f\"{key}: {value}\")\n",
    "\n",
    "describe_person(name=\"vidushi\", age=21, job=\"student\")\n",
    "     "
   ]
  },
  {
   "cell_type": "code",
   "execution_count": 21,
   "metadata": {},
   "outputs": [
    {
     "name": "stdout",
     "output_type": "stream",
     "text": [
      "8\n",
      "2 1\n"
     ]
    }
   ],
   "source": [
    "#returning values from functions\n",
    "def add(a, b):\n",
    "    return a + b\n",
    "\n",
    "result = add(5, 3)\n",
    "print(result)  \n",
    "\n",
    "\n",
    "#multiple values\n",
    "def swap(a, b):\n",
    "    return b, a\n",
    "\n",
    "x, y = swap(1, 2)\n",
    "print(x, y)  \n"
   ]
  },
  {
   "cell_type": "code",
   "execution_count": 22,
   "metadata": {},
   "outputs": [
    {
     "name": "stdout",
     "output_type": "stream",
     "text": [
      "1\n"
     ]
    }
   ],
   "source": [
    "#modifying global variables\n",
    "counter = 0\n",
    "\n",
    "def increment():\n",
    "    global counter\n",
    "    counter += 1\n",
    "\n",
    "increment()\n",
    "print(counter)  \n"
   ]
  },
  {
   "cell_type": "code",
   "execution_count": 1,
   "metadata": {},
   "outputs": [
    {
     "name": "stdout",
     "output_type": "stream",
     "text": [
      "Inside function: 6\n",
      "Outside function: 5\n",
      "Inside function: [1, 2, 3, 4]\n",
      "Outside function: [1, 2, 3, 4]\n",
      "Before: 4298598832\n",
      "After: 4298598864\n",
      "Before: 4343582592\n",
      "After: 4343582592\n"
     ]
    }
   ],
   "source": [
    "#behaviour of mutable and immutable arguments\n",
    "\n",
    "#immutable objects\n",
    "def modify_immutable(x):\n",
    "      x += 1\n",
    "      print(f\"Inside function: {x}\")\n",
    "\n",
    "a = 5\n",
    "modify_immutable(a)\n",
    "print(f\"Outside function: {a}\")  \n",
    "\n",
    "#mutable objects\n",
    "def modify_mutable(lst):\n",
    "      lst.append(4)\n",
    "      print(f\"Inside function: {lst}\")\n",
    "\n",
    "my_list = [1, 2, 3]\n",
    "modify_mutable(my_list)\n",
    "print(f\"Outside function: {my_list}\")  \n",
    "    \n",
    "#id function and object identity\n",
    "\n",
    "\n",
    "#before and after  modification\n",
    "\n",
    "#immutable example\n",
    "def modify(x):\n",
    "      print(f\"Before: {id(x)}\")\n",
    "      x += 1\n",
    "      print(f\"After: {id(x)}\")\n",
    "\n",
    "a = 5\n",
    "modify(a)\n",
    "\n",
    "#  mutable example\n",
    "def modify(lst):\n",
    "      print(f\"Before: {id(lst)}\")\n",
    "      lst.append(4)\n",
    "      print(f\"After: {id(lst)}\")\n",
    "\n",
    "my_list = [1, 2, 3]\n",
    "modify(my_list)\n",
    "  \n",
    "  "
   ]
  },
  {
   "cell_type": "code",
   "execution_count": null,
   "metadata": {},
   "outputs": [],
   "source": [
    "#functions as \"first-class citizens\""
   ]
  },
  {
   "cell_type": "code",
   "execution_count": null,
   "metadata": {},
   "outputs": [
    {
     "name": "stdout",
     "output_type": "stream",
     "text": [
      "25\n",
      "16\n"
     ]
    }
   ],
   "source": [
    "\n",
    "\n",
    "def square(x):\n",
    "    return x * x\n",
    "\n",
    "#Assigning a function to a variable\n",
    "\n",
    "f = square\n",
    "print(f(5)) \n",
    "\n",
    "#Passing a function as an argument\n",
    "def apply_function(func, value):\n",
    "    return func(value)\n",
    "\n",
    "result = apply_function(square, 4)\n",
    "print(result)  \n",
    "\n",
    "\n",
    "\n"
   ]
  },
  {
   "cell_type": "code",
   "execution_count": null,
   "metadata": {},
   "outputs": [
    {
     "name": "stdout",
     "output_type": "stream",
     "text": [
      "10\n",
      "15\n"
     ]
    }
   ],
   "source": [
    "#passing functions to a function\n",
    "def double(x):\n",
    "    return x * 2\n",
    "\n",
    "def triple(x):\n",
    "    return x * 3\n",
    "\n",
    "def apply_operation(func, number):\n",
    "    return func(number)\n",
    "\n",
    "print(apply_operation(double, 5))  \n",
    "print(apply_operation(triple, 5))  \n"
   ]
  },
  {
   "cell_type": "code",
   "execution_count": null,
   "metadata": {},
   "outputs": [],
   "source": [
    "#introduction to args and *kwargs\n",
    "\n",
    "# args : allows a functions to accept any number of positional arguments, which are passed to the function as a tuple\n",
    "\n",
    "# kwargs : allows a functions to accept any number of keyword"
   ]
  },
  {
   "cell_type": "code",
   "execution_count": 4,
   "metadata": {},
   "outputs": [
    {
     "name": "stdout",
     "output_type": "stream",
     "text": [
      "1\n",
      "2\n",
      "3\n",
      "4\n",
      "5\n"
     ]
    }
   ],
   "source": [
    "#using args\n",
    "def print_numbers(*args):\n",
    "    \"\"\"Prints each number passed as an argument.\"\"\"\n",
    "    for number in args:\n",
    "        print(number)\n",
    "\n",
    "#Calling the function with multiple arguments\n",
    "\n",
    "print_numbers(1, 2, 3, 4, 5)\n",
    "\n",
    "\n",
    "\n"
   ]
  },
  {
   "cell_type": "code",
   "execution_count": null,
   "metadata": {},
   "outputs": [
    {
     "name": "stdout",
     "output_type": "stream",
     "text": [
      "name: vidushi\n",
      "age: 21\n",
      "city: udaipur\n"
     ]
    }
   ],
   "source": [
    "#using kwargs\n",
    "def print_key_values(**kwargs):\n",
    " \n",
    "    for key, value in kwargs.items():\n",
    "        print(f\"{key}: {value}\")\n",
    "\n",
    "#Calling the function with keyword arguments\n",
    "print_key_values(name=\"vidushi\", age=21, city=\"udaipur\")\n",
    "\n",
    "\n",
    "\n",
    "\n"
   ]
  },
  {
   "cell_type": "code",
   "execution_count": 6,
   "metadata": {},
   "outputs": [
    {
     "name": "stdout",
     "output_type": "stream",
     "text": [
      "Hello, vidushi!\n",
      "Hello, vaidehi!\n",
      "age: 21\n",
      "city: udaipur\n"
     ]
    }
   ],
   "source": [
    "#combining args and kwargs\n",
    "#using together in a function to accept both positional and arguments\n",
    "def greet(*args, **kwargs):\n",
    "    \n",
    "    for name in args:\n",
    "        print(f\"Hello, {name}!\")\n",
    "    \n",
    "    for key, value in kwargs.items():\n",
    "        print(f\"{key}: {value}\")\n",
    "\n",
    "#Calling the function with both positional and keyword arguments\n",
    "\n",
    "greet(\"vidushi\", \"vaidehi\", age=21, city=\"udaipur\")\n",
    "\n",
    "\n"
   ]
  },
  {
   "cell_type": "code",
   "execution_count": 8,
   "metadata": {},
   "outputs": [
    {
     "name": "stdout",
     "output_type": "stream",
     "text": [
      "8\n",
      "[1, 4, 9, 16]\n",
      "[1, 4, 9, 16, 25]\n",
      "[2, 4]\n"
     ]
    }
   ],
   "source": [
    "#lambda functions \n",
    "\n",
    "# Lambda function to add two numbers\n",
    "add = lambda a, b: a + b\n",
    "print(add(3, 5))  \n",
    "\n",
    "\n",
    "\n",
    "#Using a lambda function with map ,filter,sorted \n",
    "\n",
    "#with map\n",
    "numbers = [1, 2, 3, 4]\n",
    "squared = map(lambda x: x * x, numbers)\n",
    "print(list(squared))  \n",
    "\n",
    "#with filter\n",
    "# Using map to square each number in a list\n",
    "numbers = [1, 2, 3, 4, 5]\n",
    "squared = map(lambda x: x * x, numbers)\n",
    "print(list(squared)) \n",
    "\n",
    "#filter\n",
    "even_numbers = filter(lambda x: x % 2 == 0, numbers)\n",
    "print(list(even_numbers)) \n",
    "\n",
    "\n",
    "\n",
    "\n"
   ]
  },
  {
   "cell_type": "code",
   "execution_count": 1,
   "metadata": {},
   "outputs": [
    {
     "name": "stdout",
     "output_type": "stream",
     "text": [
      "<map object at 0x1101368b0>\n",
      "[1, 4, 9, 16, 25]\n"
     ]
    }
   ],
   "source": [
    "#map  in  python3\n",
    " \n",
    "def square(x):\n",
    "    return x * x\n",
    "numbers = [1, 2, 3, 4, 5]\n",
    "result = map(square, numbers)\n",
    "print(result) \n",
    "# Converting the map object to a list\n",
    "result = list(map(square, numbers))\n",
    "print(result) "
   ]
  },
  {
   "cell_type": "code",
   "execution_count": 2,
   "metadata": {},
   "outputs": [
    {
     "name": "stdout",
     "output_type": "stream",
     "text": [
      "1\n",
      "4\n",
      "9\n",
      "16\n",
      "25\n"
     ]
    }
   ],
   "source": [
    "#map object\n",
    "for value in result:\n",
    "    print(value)"
   ]
  },
  {
   "cell_type": "code",
   "execution_count": 4,
   "metadata": {},
   "outputs": [
    {
     "name": "stdout",
     "output_type": "stream",
     "text": [
      "{'add': <function add at 0x110554940>, 'subtract': <function subtract at 0x110554dc0>}\n"
     ]
    }
   ],
   "source": [
    "#mapping functions in a dictionary\n",
    "def add(a, b):\n",
    "    return a + b\n",
    "def subtract(a, b):\n",
    "    return a - b\n",
    "operations = {\n",
    "\"add\": add,\n",
    "\"subtract\": subtract\n",
    "}\n",
    "operation = \"add\"\n",
    "result = operations\n",
    "print(result) "
   ]
  },
  {
   "cell_type": "code",
   "execution_count": 5,
   "metadata": {},
   "outputs": [
    {
     "name": "stdout",
     "output_type": "stream",
     "text": [
      "HELLO\n"
     ]
    }
   ],
   "source": [
    "#inner functions\n",
    "#functions defined inside other functions\n",
    "def outer_function(text):\n",
    "    def inner_function():\n",
    "        return text.upper()\n",
    "    return inner_function()\n",
    "result = outer_function(\"hello\")\n",
    "print(result) "
   ]
  },
  {
   "cell_type": "code",
   "execution_count": 10,
   "metadata": {},
   "outputs": [
    {
     "name": "stdout",
     "output_type": "stream",
     "text": [
      "Hello, World!\n",
      "1\n",
      "2\n",
      "1\n"
     ]
    }
   ],
   "source": [
    "#closures --allows the inner function to access variables from the outer functions\n",
    "def outer_function(message):\n",
    "    def inner_function():\n",
    "        print(message)\n",
    "    return inner_function\n",
    "closure = outer_function(\"Hello, World!\")\n",
    "closure()\n",
    "\n",
    "\n",
    "#closure with state\n",
    "def counter():\n",
    "    count = 0\n",
    "    def increment():\n",
    "        nonlocal count\n",
    "        count += 1\n",
    "        return count\n",
    "    return increment\n",
    "\n",
    "counter1 = counter()\n",
    "print(counter1()) \n",
    "print(counter1()) \n",
    "counter2 = counter()\n",
    "print(counter2()) "
   ]
  }
 ],
 "metadata": {
  "kernelspec": {
   "display_name": "Python 3",
   "language": "python",
   "name": "python3"
  },
  "language_info": {
   "codemirror_mode": {
    "name": "ipython",
    "version": 3
   },
   "file_extension": ".py",
   "mimetype": "text/x-python",
   "name": "python",
   "nbconvert_exporter": "python",
   "pygments_lexer": "ipython3",
   "version": "3.9.6"
  }
 },
 "nbformat": 4,
 "nbformat_minor": 2
}
