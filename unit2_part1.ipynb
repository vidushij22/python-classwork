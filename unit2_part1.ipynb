{
 "cells": [
  {
   "cell_type": "code",
   "execution_count": 20,
   "metadata": {},
   "outputs": [
    {
     "name": "stdout",
     "output_type": "stream",
     "text": [
      " 1.Snake Case\n",
      "90.0\n",
      "2.Camel Case\n",
      "vidushi\n",
      "3.Pascal case\n",
      "Vidushi\n",
      "4.screaming snake\n",
      "31.4159\n",
      "5. single underscore prefix\n",
      "42\n",
      "6. double underscore prefix\n",
      "99\n",
      "7.dunder method\n",
      "<__main__.MyClass object at 0x0000025E276E9670>\n"
     ]
    }
   ],
   "source": [
    "# naming conventions in python\n",
    "\n",
    "# 1. snake case\n",
    "print(\" 1.Snake Case\")\n",
    "user_name=\"Vidushi\"\n",
    "total_score=95 #function names\n",
    "\n",
    "def calculate_average(score_list):\n",
    "    total=sum(score_list)\n",
    "    return total/len(score_list)\n",
    "average=calculate_average([85,90,95])\n",
    "print(average)\n",
    "\n",
    "# 2. camel case\n",
    "print(\"2.Camel Case\")\n",
    "userName =\"vidushi\"\n",
    "totalScore=95\n",
    "print(userName)\n",
    "\n",
    "#3. pascal case\n",
    "print(\"3.Pascal case\")\n",
    "\n",
    "class EmployeeDetails:\n",
    "    def __init__(self, name, age):\n",
    "        self.name = name\n",
    "        self.age = age\n",
    "\n",
    "employee = EmployeeDetails(\"Vidushi\", 22)\n",
    "print(employee.name)  \n",
    "\n",
    "#4. uppercase with underscores(screaming snake case)\n",
    "print(\"4.screaming snake\")\n",
    "MAX_CONNECTIONS =100\n",
    "PI = 3.14159 \n",
    "def calculate_circumference(radius):\n",
    "    return 2*PI * radius\n",
    "print(calculate_circumference(5))\n",
    "\n",
    "#5. single underscore prefix(_varname)\n",
    "print(\"5. single underscore prefix\")\n",
    "class MyClass:\n",
    "    def __init__(self):\n",
    "        self._internal_value=42\n",
    "    def get_value(self):\n",
    "        return self._internal_value\n",
    "obj= MyClass()\n",
    "print(obj.get_value())\n",
    "\n",
    "#6. double underscore prefix(__varname)\n",
    "print(\"6. double underscore prefix\")\n",
    "class MyClass:\n",
    "\n",
    "    def __init__(self):\n",
    "        self.__private_value = 99  \n",
    "    def get_private_value(self):\n",
    "        return self.__private_value\n",
    "obj = MyClass()\n",
    "\n",
    "\n",
    "print(obj._MyClass__private_value)  \n",
    "\n",
    "#7. double underscore before and after names(dunder methods)\n",
    "print(\"7.dunder method\")\n",
    "\n",
    "class MyClass:\n",
    "\n",
    "    def __init__(self, name):\n",
    "        self.name = name\n",
    "    def str(self):\n",
    "        return f\"MyClass object with name: {self.name}\"\n",
    "obj = MyClass(\"Alice\")\n",
    "print(obj)  \n",
    "\n",
    "\n",
    "\n",
    "\n"
   ]
  },
  {
   "cell_type": "code",
   "execution_count": null,
   "metadata": {},
   "outputs": [],
   "source": [
    "#collections in python\n",
    "#list\n",
    "#tuples\n",
    "#sets\n",
    "#dictionaries"
   ]
  },
  {
   "cell_type": "code",
   "execution_count": 21,
   "metadata": {},
   "outputs": [
    {
     "name": "stdout",
     "output_type": "stream",
     "text": [
      "apple\n",
      "['apple', 'banana', 'cherry', 'orange']\n",
      "['apple', 'cherry', 'orange']\n",
      "['apple', 'kiwi', 'orange']\n"
     ]
    }
   ],
   "source": [
    "#1. LISTS\n",
    "fruits=[\"apple\",\"banana\",\"cherry\"]\n",
    "print(fruits[0])\n",
    "fruits.append(\"orange\")\n",
    "print(fruits)\n",
    "fruits.remove(\"banana\")\n",
    "print(fruits)\n",
    "fruits[1]=\"kiwi\"\n",
    "print(fruits)"
   ]
  },
  {
   "cell_type": "code",
   "execution_count": 23,
   "metadata": {},
   "outputs": [
    {
     "name": "stdout",
     "output_type": "stream",
     "text": [
      "10.0\n",
      "width: 1920, height: 1080\n"
     ]
    }
   ],
   "source": [
    "#2. TUPLES\n",
    "# Tuple creation\n",
    "coordinates = (10.0, 20.0)  \n",
    "print(coordinates[0])  \n",
    "\n",
    "\n",
    "# Function to return dimensions\n",
    "def get_dimensions():\n",
    "    return 1920, 1080  \n",
    "\n",
    "width, height = get_dimensions()\n",
    "print(f\"width: {width}, height: {height}\")  # Prints the dimensions\n",
    "\n"
   ]
  },
  {
   "cell_type": "code",
   "execution_count": 24,
   "metadata": {},
   "outputs": [
    {
     "name": "stdout",
     "output_type": "stream",
     "text": [
      "{1, 2, 3, 4, 5}\n",
      "{1, 2, 3, 4, 5, 6}\n",
      "{1, 2, 4, 5, 6}\n",
      "{4, 5, 6}\n"
     ]
    }
   ],
   "source": [
    "# 3. SETS\n",
    "# Creating a set of unique numbers\n",
    "\n",
    "unique_numbers = {1, 2, 3, 4, 4, 5}\n",
    "\n",
    "\n",
    "print(unique_numbers)  \n",
    "\n",
    "\n",
    "unique_numbers.add(6)\n",
    "print(unique_numbers)  \n",
    "\n",
    "\n",
    "unique_numbers.remove(3)\n",
    "print(unique_numbers)  \n",
    "\n",
    "other_set = {4, 5, 6, 7}\n",
    "intersection = unique_numbers & other_set\n",
    "print(intersection)  \n",
    "\n"
   ]
  },
  {
   "cell_type": "code",
   "execution_count": 25,
   "metadata": {},
   "outputs": [
    {
     "name": "stdout",
     "output_type": "stream",
     "text": [
      "vidushi\n",
      "{'name': 'vidushi', 'age': 22, 'city': 'udaipur'}\n",
      "{'name': 'vidushi', 'age': 22}\n",
      "name: vidushi\n",
      "age: 22\n"
     ]
    }
   ],
   "source": [
    "#4. DICTIONARIES\n",
    "# Creating a dictionary of personal information\n",
    "\n",
    "person = {\n",
    "    \"name\": \"vidushi\",\n",
    "    \"age\": 22,\n",
    "    \"city\": \"udaipur\"\n",
    "}\n",
    "\n",
    "\n",
    "print(person[\"name\"])  \n",
    "\n",
    "\n",
    "\n",
    "person[\"age\"] = 22\n",
    "print(person)  \n",
    "\n",
    "del person[\"city\"]\n",
    "print(person) \n",
    "\n",
    "for key, value in person.items():\n",
    "    print(f\"{key}: {value}\")\n",
    "\n",
    "\n",
    "\n",
    "age: 22\n",
    "\n"
   ]
  },
  {
   "cell_type": "code",
   "execution_count": 26,
   "metadata": {},
   "outputs": [
    {
     "name": "stdout",
     "output_type": "stream",
     "text": [
      "{'vaidehi': 12, 'vidhi': 2, 'vidushi': 22}\n",
      "{'vidushi': 22, 'vaidehi': 12, 'vidhi': 2}\n"
     ]
    }
   ],
   "source": [
    "# 5. sorting dictionaries\n",
    "# Sorting a dictionary by keys\n",
    "\n",
    "scores = {\"vidushi\": 22, \"vaidehi\": 12, \"vidhi\": 2}\n",
    "sorted_scores_by_key = dict(sorted(scores.items()))\n",
    "print(sorted_scores_by_key)  \n",
    "sorted_scores_by_value = dict(sorted(scores.items(), key=lambda item: item[1], reverse=True))\n",
    "print(sorted_scores_by_value)  \n",
    "\n",
    "\n"
   ]
  },
  {
   "cell_type": "code",
   "execution_count": 27,
   "metadata": {},
   "outputs": [
    {
     "name": "stdout",
     "output_type": "stream",
     "text": [
      "[1, 2, [3, 4]]\n",
      "[100, 2, [3, 4]]\n",
      "[1, 2, [3, 4]]\n",
      "[1, 2, [3, 4]]\n",
      "[1, 2, [3, 4]]\n"
     ]
    }
   ],
   "source": [
    "#6. copying collections\n",
    "import copy\n",
    "\n",
    "\n",
    "\n",
    "original_list = [1, 2, [3, 4]]\n",
    "shallow_copy = original_list.copy()\n",
    "\n",
    "\n",
    "shallow_copy[0] = 100\n",
    "print(original_list)  \n",
    "print(shallow_copy)  \n",
    "\n",
    "shallow_copy2 = 300\n",
    "print(original_list)  \n",
    "\n",
    "deep_copy = copy.deepcopy(original_list)\n",
    "deep_copy2 = 500\n",
    "print(original_list)  \n",
    "print(deep_copy)    \n",
    "\n"
   ]
  }
 ],
 "metadata": {
  "kernelspec": {
   "display_name": "Python 3",
   "language": "python",
   "name": "python3"
  },
  "language_info": {
   "codemirror_mode": {
    "name": "ipython",
    "version": 3
   },
   "file_extension": ".py",
   "mimetype": "text/x-python",
   "name": "python",
   "nbconvert_exporter": "python",
   "pygments_lexer": "ipython3",
   "version": "3.12.5"
  }
 },
 "nbformat": 4,
 "nbformat_minor": 2
}
