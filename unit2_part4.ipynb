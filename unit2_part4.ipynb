{
 "cells": [
  {
   "cell_type": "code",
   "execution_count": 1,
   "metadata": {},
   "outputs": [
    {
     "name": "stdout",
     "output_type": "stream",
     "text": [
      "For n = 1000000 \n",
      "Execution time is 19746.25 microseconds\n"
     ]
    }
   ],
   "source": [
    "#simple execution time measurment\n",
    "import time\n",
    "n = 1000000\n",
    "\n",
    "def testfn(n):\n",
    "    for i in range(0, n):\n",
    "        a = i * 10\n",
    "\n",
    "#Measure execution time of testfn\n",
    "\n",
    "start_time = time.time() * 1000000  # Start timer in microseconds\n",
    "testfn(n)\n",
    "end_time = time.time() * 1000000  # End timer\n",
    "print(f\"For n = {n} \\nExecution time is {end_time - start_time} microseconds\")\n",
    "\n",
    "\n"
   ]
  },
  {
   "cell_type": "code",
   "execution_count": 3,
   "metadata": {},
   "outputs": [
    {
     "name": "stdout",
     "output_type": "stream",
     "text": [
      "For n = 1000000 \n",
      "Execution time is 33118.75 microseconds\n"
     ]
    }
   ],
   "source": [
    "#using a wrapper function\n",
    "import time\n",
    "\n",
    "def testfn(n):\n",
    "    for i in range(0, n):\n",
    "        a = i * 10\n",
    "\n",
    "#Wrapper function to measure execution time\n",
    "\n",
    "def wrapper(func, *args, **kwargs):\n",
    "    def wrapped(*args, **kwargs):\n",
    "        start_time = time.time() * 1000000\n",
    "        func(*args, **kwargs)  # Call the original function\n",
    "        end_time = time.time() * 1000000\n",
    "        print(f\"For n = {n} \\nExecution time is {end_time - start_time} microseconds\")\n",
    "    return wrapped\n",
    "\n",
    "n = 1000000\n",
    "wrapped_fn = wrapper(testfn, n)\n",
    "wrapped_fn(n)\n",
    "\n",
    "\n",
    "#"
   ]
  },
  {
   "cell_type": "code",
   "execution_count": null,
   "metadata": {},
   "outputs": [
    {
     "name": "stdout",
     "output_type": "stream",
     "text": [
      "For n = 1000000 \n",
      "Execution time is 3088961.0 microseconds\n",
      "For n = 1000000 \n",
      "Execution time is 17401.25 microseconds\n"
     ]
    }
   ],
   "source": [
    "#using a decorator  --- powerful tool for modifyoing functions in a clean readable way\n",
    "import time\n",
    "\n",
    "#Wrapper function to measure execution time\n",
    "def wrapper(func, *args, **kwargs):\n",
    "    def wrapped(*args, **kwargs):\n",
    "        start_time = time.time() * 1000000\n",
    "        func(*args, **kwargs)\n",
    "        end_time = time.time() * 1000000\n",
    "        print(f\"For n = {n} \\nExecution time is {end_time - start_time} microseconds\")\n",
    "    return wrapped\n",
    "\n",
    "@wrapper  # Apply the wrapper as a decorator\n",
    "def testfn(n):\n",
    "    for i in range(0, n):\n",
    "        a = i * 10\n",
    "\n",
    "@wrapper\n",
    "def random1(n):\n",
    "    n**n\n",
    "\n",
    "n = 1000000\n",
    "random1(n)\n",
    "testfn(n)\n",
    "\n",
    "\n",
    "\n"
   ]
  },
  {
   "cell_type": "code",
   "execution_count": 10,
   "metadata": {},
   "outputs": [],
   "source": [
    "#more advanced topics related to decorators\n"
   ]
  },
  {
   "cell_type": "code",
   "execution_count": null,
   "metadata": {},
   "outputs": [
    {
     "name": "stdout",
     "output_type": "stream",
     "text": [
      "Execution time: 26472.0 microseconds\n",
      "Done!\n",
      "Done!\n"
     ]
    }
   ],
   "source": [
    " #1. stripping a decorator(calling a original function)-allows you to access the undecorated version of the function.\n",
    "\n",
    "import time\n",
    "\n",
    "def wrapper(func):\n",
    "    def wrapped(*args, **kwargs):\n",
    "        start_time = time.time() * 1000000\n",
    "        result = func(*args, **kwargs)\n",
    "        end_time = time.time() * 1000000\n",
    "        print(f\"Execution time: {end_time - start_time} microseconds\")\n",
    "        return result\n",
    "    wrapped.wrapped = func  # Store the original function # here it is wrapped.dunder(wrapped)\n",
    "    return wrapped\n",
    "\n",
    "@wrapper\n",
    "def testfn(n):\n",
    "    for i in range(n):\n",
    "        a = i * 10\n",
    "    return \"Done!\"\n",
    "\n",
    "n = 1000000\n",
    "print(testfn(n))  # Calls the decorated function\n",
    "\n",
    "#If you want to strip the decorator:\n",
    "original_testfn = testfn.wrapped #.dunder(wrapped)\n",
    "print(original_testfn(n))  # Calls the original function without timing\n"
   ]
  },
  {
   "cell_type": "code",
   "execution_count": null,
   "metadata": {},
   "outputs": [
    {
     "name": "stdout",
     "output_type": "stream",
     "text": [
      "Calling wrapped with arguments (1000,)\n",
      "Execution time: 43.75 microseconds\n",
      "Done!\n"
     ]
    }
   ],
   "source": [
    "#2.chainning multiple decorators -lets you apply multiple decorators in sequence.\n",
    "import time\n",
    "\n",
    "def logger(func):\n",
    "    def wrapped(*args, **kwargs):\n",
    "        print(f\"Calling {func.__name__} with arguments {args}\")\n",
    "        return func(*args, **kwargs)\n",
    "    return wrapped\n",
    "\n",
    "def timer(func):\n",
    "    def wrapped(*args, **kwargs):\n",
    "        start_time = time.time() * 1000000\n",
    "        result = func(*args, **kwargs)\n",
    "        end_time = time.time() * 1000000\n",
    "        print(f\"Execution time: {end_time - start_time} microseconds\")\n",
    "        return result\n",
    "    return wrapped\n",
    "\n",
    "@logger\n",
    "@timer  # timer is applied first, then logger wraps it\n",
    "def testfn(n):\n",
    "    for i in range(n):\n",
    "        a = i * 10\n",
    "    return \"Done!\"\n",
    "\n",
    "print(testfn(1000))\n"
   ]
  },
  {
   "cell_type": "code",
   "execution_count": null,
   "metadata": {},
   "outputs": [
    {
     "name": "stdout",
     "output_type": "stream",
     "text": [
      "Method my_method called with args: (5,)\n",
      "Processing 5\n",
      "50\n"
     ]
    }
   ],
   "source": [
    "#3. decorating class methods-are useful for applying decorators inside object-oriented code.\n",
    "\n",
    "def logger(func):\n",
    "    def wrapped(self, *args, **kwargs):\n",
    "        print(f\"Method {func.__name__} called with args: {args}\")\n",
    "        return func(self, *args, **kwargs)\n",
    "    return wrapped\n",
    "\n",
    "class MyClass:\n",
    "    @logger\n",
    "    def my_method(self, x):\n",
    "        print(f\"Processing {x}\")\n",
    "        return x * 10\n",
    "\n",
    "obj = MyClass()\n",
    "print(obj.my_method(5))\n"
   ]
  },
  {
   "cell_type": "code",
   "execution_count": null,
   "metadata": {},
   "outputs": [
    {
     "name": "stdout",
     "output_type": "stream",
     "text": [
      "Hello!\n",
      "Hello!\n",
      "Hello!\n"
     ]
    }
   ],
   "source": [
    "# 4. decorators with arguments - allow you to configure behavior with external arguments\n",
    "def repeat(times):\n",
    "    def decorator(func):\n",
    "        def wrapped(*args, **kwargs):\n",
    "            for _ in range(times):\n",
    "                func(*args, **kwargs)\n",
    "        return wrapped\n",
    "    return decorator\n",
    "\n",
    "@repeat(3)  # Repeats the function call 3 times\n",
    "def say_hello():\n",
    "    print(\"Hello!\")\n",
    "\n",
    "say_hello()\n"
   ]
  },
  {
   "cell_type": "code",
   "execution_count": null,
   "metadata": {},
   "outputs": [
    {
     "name": "stdout",
     "output_type": "stream",
     "text": [
      "Call 1 of say_hello\n",
      "Hello!\n",
      "Call 2 of say_hello\n",
      "Hello!\n"
     ]
    }
   ],
   "source": [
    "# 5, class decorators -allow more control and state maintenance.\n",
    "class DecoratorClass:\n",
    "    def __init__(self, func):\n",
    "        self.func = func\n",
    "        self.call_count = 0\n",
    "    \n",
    "    def __call__(self, *args, **kwargs):\n",
    "        self.call_count += 1\n",
    "        print(f\"Call {self.call_count} of {self.func.__name__}\")\n",
    "        return self.func(*args, **kwargs)\n",
    "\n",
    "@DecoratorClass\n",
    "def say_hello():\n",
    "    print(\"Hello!\")\n",
    "\n",
    "say_hello()\n",
    "say_hello()\n",
    "\n"
   ]
  },
  {
   "cell_type": "code",
   "execution_count": null,
   "metadata": {},
   "outputs": [
    {
     "name": "stdout",
     "output_type": "stream",
     "text": [
      "5\n"
     ]
    }
   ],
   "source": [
    "# 6. built-in python decorators -like @staticmethod, @classmethod, and @property simplify common patterns in class design.\n",
    "class Circle:\n",
    "    def __init__(self, radius):\n",
    "        self._radius = radius\n",
    "\n",
    "    @property\n",
    "    def radius(self):\n",
    "        return self._radius\n",
    "\n",
    "    @radius.setter\n",
    "    def radius(self, value):\n",
    "        if value > 0:\n",
    "            self._radius = value\n",
    "        else:\n",
    "            raise ValueError(\"Radius must be positive\")\n",
    "\n",
    "circle = Circle(5)\n",
    "print(circle.radius)  # Getter\n",
    "circle.radius = 10  # Setter\n"
   ]
  }
 ],
 "metadata": {
  "kernelspec": {
   "display_name": "Python 3",
   "language": "python",
   "name": "python3"
  },
  "language_info": {
   "codemirror_mode": {
    "name": "ipython",
    "version": 3
   },
   "file_extension": ".py",
   "mimetype": "text/x-python",
   "name": "python",
   "nbconvert_exporter": "python",
   "pygments_lexer": "ipython3",
   "version": "3.9.6"
  }
 },
 "nbformat": 4,
 "nbformat_minor": 2
}
