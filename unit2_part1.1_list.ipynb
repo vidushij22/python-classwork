{
 "cells": [
  {
   "cell_type": "code",
   "execution_count": null,
   "metadata": {},
   "outputs": [],
   "source": [
    "#cvopy and deep copy python lists"
   ]
  },
  {
   "cell_type": "code",
   "execution_count": 1,
   "metadata": {},
   "outputs": [],
   "source": [
    "def showDetails(*args):\n",
    "    for i in range(len(args)):\n",
    "        variable = args[i]\n",
    "        print(f\"The Value of { i+1 } variable is \\t{variable }\\t its id is \\t {id(variable)}\")\n",
    "    \n",
    "    print(\"\\n\\n\")"
   ]
  },
  {
   "cell_type": "code",
   "execution_count": 2,
   "metadata": {},
   "outputs": [
    {
     "name": "stdout",
     "output_type": "stream",
     "text": [
      "The Value of 1 variable is \t[2, 4, 6, [1, 3]]\t its id is \t 2541232065216\n",
      "The Value of 2 variable is \t[2, 4, 6, [1, 3]]\t its id is \t 2541232065216\n",
      "\n",
      "\n",
      "\n",
      "The Value of 1 variable is \t[2, 44, 6, [1, 3]]\t its id is \t 2541232065216\n",
      "The Value of 2 variable is \t[2, 44, 6, [1, 3]]\t its id is \t 2541232065216\n",
      "\n",
      "\n",
      "\n",
      "The Value of 1 variable is \t[2, 44, 6, [1, 10]]\t its id is \t 2541232065216\n",
      "The Value of 2 variable is \t[2, 44, 6, [1, 10]]\t its id is \t 2541232065216\n",
      "\n",
      "\n",
      "\n"
     ]
    }
   ],
   "source": [
    "listA = [2, 4, 6, [1, 3]]\n",
    "listB = listA\n",
    "showDetails(listA,listB)\n",
    "listB[1] = 44\n",
    "\n",
    "showDetails(listA,listB)\n",
    "listB[3][1] = 10\n",
    "\n",
    "\n",
    "showDetails(listA,listB)"
   ]
  },
  {
   "cell_type": "code",
   "execution_count": null,
   "metadata": {},
   "outputs": [],
   "source": [
    "#Shallow copy using the list() constructor\n",
    "# it only works for 1D lists of native data types"
   ]
  },
  {
   "cell_type": "code",
   "execution_count": 3,
   "metadata": {},
   "outputs": [
    {
     "name": "stdout",
     "output_type": "stream",
     "text": [
      "The Value of 1 variable is \t[2, 4, 6, [1, 3]]\t its id is \t 2541233388992\n",
      "The Value of 2 variable is \t[2, 4, 6, [1, 3]]\t its id is \t 2541233451456\n",
      "\n",
      "\n",
      "\n",
      "The Value of 1 variable is \t[2, 4, 6, [55, 3]]\t its id is \t 2541233388992\n",
      "The Value of 2 variable is \t[2, 44, 6, [55, 3]]\t its id is \t 2541233451456\n",
      "\n",
      "\n",
      "\n"
     ]
    }
   ],
   "source": [
    "listA = [2, 4, 6, [1, 3]]\n",
    "listB = list(listA)\n",
    "showDetails(listA,listB)\n",
    "\n",
    "listB[1] = 44\n",
    "listB[3][0] = 55\n",
    "\n",
    "showDetails(listA,listB)"
   ]
  },
  {
   "cell_type": "code",
   "execution_count": null,
   "metadata": {},
   "outputs": [],
   "source": [
    "#Other ways to make a shallow copy \n",
    "#list comprehension,list.copy(),or copy.copy()can also be used to make shallow copies"
   ]
  },
  {
   "cell_type": "code",
   "execution_count": 2,
   "metadata": {},
   "outputs": [
    {
     "name": "stdout",
     "output_type": "stream",
     "text": [
      "The Value of 1 variable is \t[2, 4, 6, [1, 3]]\t its id is \t 4381570816\n",
      "The Value of 2 variable is \t[2, 4, 6, [1, 3]]\t its id is \t 4387263168\n",
      "\n",
      "\n",
      "\n",
      "The Value of 1 variable is \t[2, 4, 6, [55, 3]]\t its id is \t 4381570816\n",
      "The Value of 2 variable is \t[2, 44, 6, [55, 3]]\t its id is \t 4387263168\n",
      "\n",
      "\n",
      "\n"
     ]
    }
   ],
   "source": [
    "listA = [2, 4, 6, [1, 3]]\n",
    "listB = [x for x in listA]\n",
    "showDetails(listA,listB)\n",
    "\n",
    "listB[1] = 44\n",
    "listB[3][0] = 55\n",
    "showDetails(listA,listB)"
   ]
  },
  {
   "cell_type": "code",
   "execution_count": 3,
   "metadata": {},
   "outputs": [
    {
     "name": "stdout",
     "output_type": "stream",
     "text": [
      "The Value of 1 variable is \t[2, 4, 6, [1, 3]]\t its id is \t 4387420032\n",
      "The Value of 2 variable is \t[2, 4, 6, [1, 3]]\t its id is \t 4386780352\n",
      "\n",
      "\n",
      "\n",
      "The Value of 1 variable is \t[2, 4, 6, [55, 3]]\t its id is \t 4387420032\n",
      "The Value of 2 variable is \t[2, 44, 6, [55, 3]]\t its id is \t 4386780352\n",
      "\n",
      "\n",
      "\n"
     ]
    }
   ],
   "source": [
    "listA = [2, 4, 6, [1, 3]]\n",
    "listB = listA.copy()\n",
    "showDetails(listA,listB)\n",
    "\n",
    "listB[1] = 44\n",
    "listB[3][0] = 55\n",
    "showDetails(listA,listB)"
   ]
  },
  {
   "cell_type": "code",
   "execution_count": 4,
   "metadata": {},
   "outputs": [
    {
     "name": "stdout",
     "output_type": "stream",
     "text": [
      "The Value of 1 variable is \t[2, 4, 6, [1, 3]]\t its id is \t 4387419968\n",
      "The Value of 2 variable is \t[2, 4, 6, [1, 3]]\t its id is \t 4381570816\n",
      "\n",
      "\n",
      "\n",
      "The Value of 1 variable is \t[2, 4, 6, [55, 3]]\t its id is \t 4387419968\n",
      "The Value of 2 variable is \t[2, 44, 6, [55, 3]]\t its id is \t 4381570816\n",
      "\n",
      "\n",
      "\n"
     ]
    }
   ],
   "source": [
    "import copy\n",
    "listA = [2, 4, 6, [1, 3]]\n",
    "listB = copy.copy(listA)\n",
    "\n",
    "showDetails(listA,listB)\n",
    "listB[1] = 44\n",
    "listB[3][0] = 55\n",
    "showDetails(listA,listB)"
   ]
  },
  {
   "cell_type": "code",
   "execution_count": null,
   "metadata": {},
   "outputs": [],
   "source": [
    "#Deep copy a python list\n",
    "#use copy.deepcopy()"
   ]
  },
  {
   "cell_type": "code",
   "execution_count": 5,
   "metadata": {},
   "outputs": [
    {
     "name": "stdout",
     "output_type": "stream",
     "text": [
      "The Value of 1 variable is \t[2, 4, 6, [1, 3]]\t its id is \t 4387531584\n",
      "The Value of 2 variable is \t[2, 4, 6, [1, 3]]\t its id is \t 4387532992\n",
      "\n",
      "\n",
      "\n",
      "The Value of 1 variable is \t[2, 4, 6, [1, 3]]\t its id is \t 4387531584\n",
      "The Value of 2 variable is \t[2, 44, 6, [55, 3]]\t its id is \t 4387532992\n",
      "\n",
      "\n",
      "\n"
     ]
    }
   ],
   "source": [
    "import copy\n",
    "listA = [2, 4, 6, [1, 3]]\n",
    "listB = copy.deepcopy(listA)\n",
    "showDetails(listA,listB)\n",
    "listB[1] = 44\n",
    "listB[3][0] = 55\n",
    "showDetails(listA,listB)"
   ]
  },
  {
   "cell_type": "code",
   "execution_count": null,
   "metadata": {},
   "outputs": [],
   "source": [
    "#Deep copy with objects"
   ]
  },
  {
   "cell_type": "code",
   "execution_count": 6,
   "metadata": {},
   "outputs": [
    {
     "name": "stdout",
     "output_type": "stream",
     "text": [
      "The Value of 1 variable is \t<__main__.Pony object at 0x105867b80>\t its id is \t 4387666816\n",
      "The Value of 2 variable is \t<__main__.Pony object at 0x105867760>\t its id is \t 4387665760\n",
      "\n",
      "\n",
      "\n",
      "4387666816 4387665760\n",
      "4387666816 4387666816\n",
      "4387666816 4387730048\n"
     ]
    }
   ],
   "source": [
    "class Pony():\n",
    "    def __init__(self, n):\n",
    "        self.name = n\n",
    "        \n",
    "# copy.copy on an object gives you 2 unique objects (with same attributes)\n",
    "pony1 = Pony('Pinto')\n",
    "pony2 = copy.copy(pony1)\n",
    "showDetails(pony1,pony2)\n",
    "\n",
    "print(id(pony1), id(pony2))\n",
    "\n",
    "# copy.copy on a list of objects gives you 2 unique lists containing the exact same objects    \n",
    "# (ie. new list is a shallow copy)\n",
    "m = [pony1, pony2]\n",
    "n = copy.copy (m)\n",
    "print(id(m[0]), id(n[0]))\n",
    "\n",
    "# use copy.deepcopy to deep copy a list of objects\n",
    "n = copy.deepcopy (m)\n",
    "print(id(m[0]), id(n[0]))"
   ]
  }
 ],
 "metadata": {
  "kernelspec": {
   "display_name": "Python 3",
   "language": "python",
   "name": "python3"
  },
  "language_info": {
   "codemirror_mode": {
    "name": "ipython",
    "version": 3
   },
   "file_extension": ".py",
   "mimetype": "text/x-python",
   "name": "python",
   "nbconvert_exporter": "python",
   "pygments_lexer": "ipython3",
   "version": "3.9.6"
  }
 },
 "nbformat": 4,
 "nbformat_minor": 2
}
