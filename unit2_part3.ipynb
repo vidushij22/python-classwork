{
 "cells": [
  {
   "cell_type": "code",
   "execution_count": null,
   "metadata": {},
   "outputs": [],
   "source": [
    "#wrapper function -- wrapper function is a function that \"wraps\" another function, typically adding\n",
    "#some extra behavior or functionality before and after the original function is called.\n"
   ]
  },
  {
   "cell_type": "code",
   "execution_count": 2,
   "metadata": {},
   "outputs": [
    {
     "name": "stdout",
     "output_type": "stream",
     "text": [
      "Result: 499999500000\n",
      "Execution Time without Wrapper: 0.0367279052734375 seconds\n"
     ]
    }
   ],
   "source": [
    "#timing a function without a wrapper\n",
    "import time\n",
    "\n",
    "def do_something(n):\n",
    "    total = 0\n",
    "    for i in range(n):\n",
    "     total += i\n",
    "    return total\n",
    "#Timing the function execution\n",
    "start_time = time.time()\n",
    "result = do_something(1000000)\n",
    "end_time = time.time()\n",
    "print(f\"Result: {result}\")\n",
    "print(f\"Execution Time without Wrapper: {end_time - start_time} seconds\")"
   ]
  },
  {
   "cell_type": "code",
   "execution_count": 5,
   "metadata": {},
   "outputs": [
    {
     "name": "stdout",
     "output_type": "stream",
     "text": [
      "Execution Time with Wrapper: 0.05303812026977539 seconds\n",
      "Result: 499999500000\n",
      "1\n",
      "2\n",
      "3\n",
      "4\n",
      "name = vidushi\n",
      "age = 21\n"
     ]
    }
   ],
   "source": [
    "#Timing a Function With a Wrapper Function\n",
    "import time\n",
    " #Wrapper function to time another function\n",
    "def timing_wrapper(func, *args, **kwargs):\n",
    "    start_time = time.time()\n",
    "    result = func(*args, **kwargs)\n",
    "    end_time = time.time()\n",
    "    print(f\"Execution Time with Wrapper: {end_time - start_time} seconds\")\n",
    "    return result\n",
    "#Calling do_something using the wrapper\n",
    "timed_result = timing_wrapper(do_something, 1000000)\n",
    "print(f\"Result: {timed_result}\")\n",
    "\n",
    "#args\n",
    "def print_args(*args):\n",
    "    for arg in args:\n",
    "        print(arg)\n",
    "print_args(1, 2, 3, 4) \n",
    "\n",
    "#kwargs\n",
    "def print_kwargs(**kwargs):\n",
    "    for key, value in kwargs.items():\n",
    "        print(f\"{key} = {value}\")\n",
    "print_kwargs(name=\"vidushi\", age=21)"
   ]
  },
  {
   "cell_type": "code",
   "execution_count": 6,
   "metadata": {},
   "outputs": [
    {
     "name": "stdout",
     "output_type": "stream",
     "text": [
      "\n",
      " n = 1000 Time to execute is 37.75 microseconds\n",
      "\n",
      "\n",
      " n = 5000 Time to execute is 184.25 microseconds\n",
      "\n",
      "\n",
      " n = 10000 Time to execute is 472.25 microseconds\n",
      "\n",
      "\n",
      " n = 20000 Time to execute is 720.75 microseconds\n",
      "\n"
     ]
    }
   ],
   "source": [
    "#challenge1\n",
    "#measuring execution time with wrapper function\n",
    "import time\n",
    " #Function to simulate work\n",
    "def count(n):\n",
    "    for i in range(0, n):\n",
    "        a = i * 10 # Multiply numbers\n",
    "#Wrapper function to time the execution\n",
    "def wrapper(func, n):\n",
    "    start_time = time.time() * 1000000 # Start time in microseconds\n",
    "    func(n) # Call the function to time\n",
    "    end_time = time.time() * 1000000 # End time\n",
    "    print(f\"\\n n = {n} Time to execute is {end_time - start_time} microseconds\\n\")\n",
    "#Test the wrapper with various values of n\n",
    "ns = [1000, 5000, 10000, 20000]\n",
    "for n in ns:\n",
    "    wrapper(count, n)"
   ]
  },
  {
   "cell_type": "code",
   "execution_count": 18,
   "metadata": {},
   "outputs": [
    {
     "name": "stdout",
     "output_type": "stream",
     "text": [
      "\n",
      " n = 10000 Time to execute is 347.75 micro\n",
      "\n",
      "\n",
      " Time to execute is 12331.0 micro\n",
      "\n"
     ]
    }
   ],
   "source": [
    "import time\n",
    "\n",
    "# Define the decorator\n",
    "def wrapper(func):\n",
    "    def wrapped(*args, **kwargs):\n",
    "        start_time = time.time() * 1000000  # Start time\n",
    "        func(*args, **kwargs)  # Call the original function\n",
    "        end_time = time.time() * 1000000  # End time\n",
    "        if args:\n",
    "            print(f\"\\n n = {args[0]} Time to execute is {end_time - start_time} micro\\n\")\n",
    "        else:\n",
    "            print(f\"\\n Time to execute is {end_time - start_time} micro\\n\")\n",
    "    return wrapped\n",
    "\n",
    "# Apply the decorator to the 'count' function\n",
    "@wrapper\n",
    "def count(n):\n",
    "    for i in range(0, n):\n",
    "        a = i * 10  # Simulate work\n",
    "\n",
    "# Call the decorated function\n",
    "n = 10000\n",
    "count(n)\n",
    "\n",
    "# Apply the decorator to another function\n",
    "@wrapper\n",
    "def random_task():\n",
    "    for i in range(0, 1000000):\n",
    "        pass  # Simulate some work\n",
    "\n",
    "random_task()\n",
    "\n"
   ]
  },
  {
   "cell_type": "code",
   "execution_count": null,
   "metadata": {},
   "outputs": [
    {
     "name": "stdout",
     "output_type": "stream",
     "text": [
      "n = 10000 Time to execute is 402.0 microseconds\n",
      "n = None Time to execute is 16012.5 microseconds\n"
     ]
    }
   ],
   "source": [
    "#alternative to above one\n",
    "#challenge measure execution time manually without using @wrapper\n",
    "\n",
    "\n",
    "import time\n",
    "\n",
    "#Step 1: Define the wrapper function\n",
    "\n",
    "\n",
    "\n",
    "def wrapper(func):\n",
    "    def wrapped(*args, **kwargs):\n",
    "        start_time = time.time() * 1000000  # Start time in microseconds\n",
    "        func(*args, **kwargs)  # Call the original function\n",
    "        end_time = time.time() * 1000000  # End time\n",
    "        print(f\"n = {args[0] if args else 'None'} Time to execute is {end_time - start_time} microseconds\")\n",
    "    return wrapped  # Return the modified function\n",
    "\n",
    "#Step 2: Define the original function\n",
    "\n",
    "\n",
    "\n",
    "def count(n):\n",
    "    for i in range(0, n):\n",
    "        a = i * 10  # Simulate some work\n",
    "\n",
    "#Step 3: Manually wrap and call the function\n",
    "\n",
    "\n",
    "\n",
    "wrapped_count = wrapper(count)  # Manually wrap the function\n",
    "n = 10000\n",
    "wrapped_count(n)  # Call the wrapped function\n",
    "\n",
    "#Step 4: Define another function and apply the same wrapping logic\n",
    "def random_task():\n",
    "    for i in range(0, 1000000):\n",
    "        pass  # Simulate some work\n",
    "\n",
    "wrapped_random_task = wrapper(random_task)  # Wrap the new function\n",
    "wrapped_random_task()  # Call the wrapped version\n",
    "\n",
    "\n",
    "\n"
   ]
  },
  {
   "cell_type": "code",
   "execution_count": 23,
   "metadata": {},
   "outputs": [
    {
     "name": "stdout",
     "output_type": "stream",
     "text": [
      "n = 10000 Time to execute is 287.0 microseconds\n",
      "n = None Time to execute is 13032.0 microseconds\n"
     ]
    }
   ],
   "source": [
    "#transition to using  @wrapper\n",
    "#challenging: using @wrapper to simplfy code\n",
    "\n",
    "\n",
    "import time\n",
    "\n",
    "#Define the decorator\n",
    "\n",
    "\n",
    "\n",
    "def wrapper(func):\n",
    "    def wrapped(*args, **kwargs):\n",
    "        start_time = time.time() * 1000000  # Start time in microseconds\n",
    "        func(*args, **kwargs)  # Call the original function\n",
    "        end_time = time.time() * 1000000  # End time\n",
    "        print(f\"n = {args[0] if args else 'None'} Time to execute is {end_time - start_time} microseconds\")\n",
    "    return wrapped  # Return the modified function\n",
    "\n",
    "#Apply the decorator to the count function\n",
    "\n",
    "\n",
    "\n",
    "@wrapper\n",
    "def count(n):\n",
    "    for i in range(0, n):\n",
    "        a = i * 10  # Simulate some work\n",
    "\n",
    "#Call the decorated function\n",
    "\n",
    "\n",
    "\n",
    "n = 10000\n",
    "count(n)  # Automatically timed due to the decorator\n",
    "\n",
    "#Apply the decorator to another function\n",
    "\n",
    "\n",
    "\n",
    "@wrapper\n",
    "def random_task():\n",
    "    for i in range(0, 1000000):\n",
    "        pass  # Simulate some work\n",
    "\n",
    "#Call the decorated function\n",
    "\n",
    "random_task()  # Automatically timed due to the decorator\n",
    "\n",
    "\n",
    "\n",
    "\n"
   ]
  },
  {
   "cell_type": "markdown",
   "metadata": {},
   "source": []
  }
 ],
 "metadata": {
  "kernelspec": {
   "display_name": "Python 3",
   "language": "python",
   "name": "python3"
  },
  "language_info": {
   "codemirror_mode": {
    "name": "ipython",
    "version": 3
   },
   "file_extension": ".py",
   "mimetype": "text/x-python",
   "name": "python",
   "nbconvert_exporter": "python",
   "pygments_lexer": "ipython3",
   "version": "3.9.6"
  }
 },
 "nbformat": 4,
 "nbformat_minor": 2
}
