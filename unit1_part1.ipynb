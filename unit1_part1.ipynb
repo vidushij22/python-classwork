{
 "cells": [
  {
   "cell_type": "code",
   "execution_count": 3,
   "metadata": {},
   "outputs": [
    {
     "name": "stdout",
     "output_type": "stream",
     "text": [
      "hello world!\n"
     ]
    }
   ],
   "source": [
    "#basics\n",
    "print(\"hello world!\")\n"
   ]
  },
  {
   "cell_type": "code",
   "execution_count": 6,
   "metadata": {},
   "outputs": [
    {
     "name": "stdout",
     "output_type": "stream",
     "text": [
      "10\n",
      "hello\n"
     ]
    }
   ],
   "source": [
    "#dynamic types\n",
    "x=10 #x is a integer\n",
    "print(x)\n",
    "x= \"hello\" #x is now a string\n",
    "print(x)"
   ]
  },
  {
   "cell_type": "code",
   "execution_count": 12,
   "metadata": {},
   "outputs": [
    {
     "name": "stdout",
     "output_type": "stream",
     "text": [
      "140729166400216\n",
      "140729166400248\n",
      "3168125715776\n",
      "3168131170608\n",
      "3168131056768\n",
      "3168131056768\n"
     ]
    }
   ],
   "source": [
    "#mutable or immmutable data types\n",
    "\n",
    "#1. immutable objects\n",
    "x=10\n",
    "print(id(x))\n",
    "x=x+1\n",
    "print(id(x))\n",
    "y=\"hello\"\n",
    "print(id(y))\n",
    "y=y+\"world\"\n",
    "print(id(y))\n",
    "\n",
    "#2. mutable objects\n",
    "z=[1,2,3]\n",
    "print(id(z))\n",
    "z.append(4)\n",
    "print(id(z)) #same address,even though the contents have changed"
   ]
  },
  {
   "cell_type": "code",
   "execution_count": 15,
   "metadata": {},
   "outputs": [
    {
     "name": "stdout",
     "output_type": "stream",
     "text": [
      "five is greater than two!\n"
     ]
    }
   ],
   "source": [
    "#basic syntax\n",
    "if 5 > 2 :\n",
    "    print(\"five is greater than two!\")"
   ]
  },
  {
   "cell_type": "code",
   "execution_count": 16,
   "metadata": {},
   "outputs": [
    {
     "name": "stdout",
     "output_type": "stream",
     "text": [
      "hello,world!\n"
     ]
    }
   ],
   "source": [
    "#comments\n",
    "\n",
    "# this is single line comment\n",
    "print(\"hello,world!\") #thi is inline comment\n",
    "\n",
    "# this is \n",
    "# multi line comment\n",
    "# or docstring"
   ]
  },
  {
   "cell_type": "code",
   "execution_count": 18,
   "metadata": {},
   "outputs": [
    {
     "name": "stdout",
     "output_type": "stream",
     "text": [
      "HELLO,WORLD!\n",
      "Hello,world!\n",
      "hello,python!\n"
     ]
    }
   ],
   "source": [
    "#string values\n",
    "my_string = \"hello,world!\"\n",
    "\n",
    "print(my_string.upper())\n",
    "print(my_string.capitalize())\n",
    "print(my_string.replace(\"world\",\"python\"))\n",
    "\n"
   ]
  },
  {
   "cell_type": "code",
   "execution_count": 20,
   "metadata": {},
   "outputs": [
    {
     "name": "stdout",
     "output_type": "stream",
     "text": [
      "False\n",
      "True\n"
     ]
    }
   ],
   "source": [
    "#dtring operators\n",
    "\n",
    "#Concatenation\n",
    "str1=\"hello\"\n",
    "str2=\"world\"\n",
    "result=str1+\"\"+str2\n",
    "\n",
    "result = str1*3\n",
    "\n",
    "print(\"H\" in str1)\n",
    "print(\"Z\" not in str1)"
   ]
  },
  {
   "cell_type": "code",
   "execution_count": 14,
   "metadata": {},
   "outputs": [
    {
     "name": "stdout",
     "output_type": "stream",
     "text": [
      " output 1.\n",
      "helloworld\n",
      "output 2.\n",
      "hihihi\n",
      "output 3.\n",
      "False\n",
      "False\n",
      "output 4.\n",
      "p\n",
      "n\n",
      "pyt\n",
      " output 5.\n",
      "False\n",
      "True\n",
      "output 6.\n",
      "he said, \"hello!\"\n",
      "Line1\n",
      "Line2\n",
      "output 7.\n",
      "C:\\users\\name\\docs\n",
      "output 8.\n",
      "My name is Alice and I am 30 years old.\n",
      "My name is Alice and I am 30 years old.\n",
      "My name is Alice and I am 30 years old.\n",
      "output 9.\n",
      "5\n",
      "output 10.\n",
      "HELLO\n"
     ]
    }
   ],
   "source": [
    "#some common string operators\n",
    "\n",
    "# 1. Concatenation operator(+)\n",
    "\n",
    "str1 =\"hello\"\n",
    "str2 = \"world\"\n",
    "result = str1 + \"\" + str2\n",
    "print(\" output 1.\")\n",
    "print(result) \n",
    "\n",
    "#2.repetition operator()**\n",
    "str1 =\"hi\"\n",
    "result =str1 *3\n",
    "print(\"output 2.\")\n",
    "print(result)\n",
    "\n",
    "#3. memebership operator (in and not in)\n",
    "\n",
    "str1=\"hello world\"\n",
    "print(\"output 3.\")\n",
    "print(\"_world\" in str1)\n",
    "print(\"world\" not in str1)\n",
    "\n",
    "#4. slice operator( [] )\n",
    "str1=\"python\"\n",
    "print(\"output 4.\")\n",
    "print(str1[0])\n",
    "print(str1[-1])\n",
    "print(str1[0:3])\n",
    "\n",
    "#5. string comparison operators( == , != , < , > , <= , >= )\n",
    "str1 = \"apple\"\n",
    "str2=\"banana\"\n",
    "print(\" output 5.\")\n",
    "print(str1 == str2)\n",
    "print(str1 < str2)\n",
    "\n",
    "#6. escape character ( \\ )\n",
    "str1= \"he said, \\\"hello!\\\"\"\n",
    "print(\"output 6.\")\n",
    "print(str1)\n",
    "str2 = \"Line1\\nLine2\"\n",
    "print(str2)\n",
    "\n",
    "#7. raw strings ( r'' or r\"\")\n",
    "print(\"output 7.\")\n",
    "str1 = r\"C:\\users\\name\\docs\"\n",
    "print(str1)\n",
    "\n",
    "#8. string Formatting ( % , str.format() , f-strings)\n",
    "\n",
    "name = \"Alice\"\n",
    "age=30\n",
    "print(\"output 8.\")\n",
    "print(\"My name is %s and I am %d years old.\" %(name,age))\n",
    "\n",
    "print(\"My name is {} and I am {} years old.\".format(name,age))\n",
    "\n",
    "print(f\"My name is {name} and I am {age} years old.\")\n",
    "\n",
    "#9. Length operator ( len() )\n",
    "str1=\"hello\"\n",
    "print(\"output 9.\")\n",
    "print(len(str1))\n",
    "\n",
    "#10 string methods\n",
    "str1 =\"hello\"\n",
    "print(\"output 10.\")\n",
    "print(str1.upper())\n",
    "\n"
   ]
  },
  {
   "cell_type": "code",
   "execution_count": 15,
   "metadata": {},
   "outputs": [],
   "source": [
    "# numeric data types\n",
    "x=10 #int\n",
    "y=3.14 #float\n",
    "z=1+2j #complex\n",
    "j =True #boolean(bool) \n"
   ]
  },
  {
   "cell_type": "code",
   "execution_count": 16,
   "metadata": {},
   "outputs": [],
   "source": [
    "#type conversion\n",
    "l=int(3.7) #convert to integer\n",
    "m = float(5) #convert to float\n",
    "n =complex(2) #converts to (2+0j)\n",
    "o = bool(0) #converts to boolean -false\n",
    "p=bool(42) #converts to boolean-true\n"
   ]
  },
  {
   "cell_type": "code",
   "execution_count": 8,
   "metadata": {},
   "outputs": [
    {
     "name": "stdout",
     "output_type": "stream",
     "text": [
      "arithmatic operations\n",
      "15\n",
      "5\n",
      "50\n",
      "2.0\n",
      "3\n",
      "1\n",
      "8\n",
      "comaprisions operations\n",
      "True\n",
      "True\n",
      "complex numbers\n",
      "(3+7j)\n"
     ]
    }
   ],
   "source": [
    "#operations on numeric types\n",
    "# 1. Arithmatic operations -addition(+),subtraction(-),multiplication(*),division(/),floor division(//),modulus(%),exponentiation(**).\n",
    "print(\"arithmatic operations\")\n",
    "result1 = 10 + 5        # Addition\n",
    "print(result1)\n",
    "result2 = 10 - 5        # Subtraction\n",
    "print(result2)\n",
    "result3 = 10 * 5        # Multiplication\n",
    "print(result3)\n",
    "result4 = 10 / 5        # Division\n",
    "print(result4)\n",
    "result5 = 10 // 3       # Floor Division\n",
    "print(result5)\n",
    "result6 = 10 % 3        # Modulus\n",
    "print(result6)\n",
    "result7 = 2 ** 3        # Exponentiation\n",
    "print(result7)\n",
    "\n",
    "# 2. comparisions operations - equality(==),inequality(!=),greater than(>),less than(<),greater than or equal to (>=), less than or equal to (<=)\n",
    "print(\"comaprisions operations\")\n",
    "is_equal = (10 == 10)  \n",
    "is_greater = (10 > 5)  \n",
    "print(is_equal)\n",
    "print(is_greater)\n",
    "\n",
    "# 3. complex numbers \n",
    "print(\"complex numbers\")\n",
    "complex1 = 2+3j\n",
    "complex2 = 1+4j\n",
    "result=complex1+complex2\n",
    "print(result)\n"
   ]
  },
  {
   "cell_type": "code",
   "execution_count": 9,
   "metadata": {},
   "outputs": [
    {
     "name": "stdout",
     "output_type": "stream",
     "text": [
      "hello,vidushi jain!\n"
     ]
    }
   ],
   "source": [
    "#input and output functions\n",
    "\n",
    "#input--input()\n",
    "#output--print()\n",
    "\n",
    "name = input(\"enter your name:\")\n",
    "print(\"hello,\"+name+\"!\")"
   ]
  },
  {
   "cell_type": "code",
   "execution_count": 10,
   "metadata": {},
   "outputs": [
    {
     "name": "stdout",
     "output_type": "stream",
     "text": [
      "Size of x:28 bytes\n"
     ]
    }
   ],
   "source": [
    "# finding the size of a variable\n",
    "import sys\n",
    "x=42\n",
    "size=sys.getsizeof(x)\n",
    "print(f\"Size of x:{size} bytes\")"
   ]
  },
  {
   "cell_type": "code",
   "execution_count": 11,
   "metadata": {},
   "outputs": [
    {
     "name": "stdout",
     "output_type": "stream",
     "text": [
      "type of x:<class 'int'>\n"
     ]
    }
   ],
   "source": [
    "# finding the type a variable\n",
    "x=42\n",
    "variable_type =type(x)\n",
    "print(f\"type of x:{variable_type}\")"
   ]
  },
  {
   "cell_type": "code",
   "execution_count": 12,
   "metadata": {},
   "outputs": [
    {
     "name": "stdout",
     "output_type": "stream",
     "text": [
      "memory location of x:140724725747416\n"
     ]
    }
   ],
   "source": [
    "#finding the memory location\n",
    "x=42\n",
    "memory_location=id(x)\n",
    "print(f\"memory location of x:{memory_location}\")"
   ]
  }
 ],
 "metadata": {
  "kernelspec": {
   "display_name": "Python 3",
   "language": "python",
   "name": "python3"
  },
  "language_info": {
   "codemirror_mode": {
    "name": "ipython",
    "version": 3
   },
   "file_extension": ".py",
   "mimetype": "text/x-python",
   "name": "python",
   "nbconvert_exporter": "python",
   "pygments_lexer": "ipython3",
   "version": "3.12.5"
  }
 },
 "nbformat": 4,
 "nbformat_minor": 2
}
